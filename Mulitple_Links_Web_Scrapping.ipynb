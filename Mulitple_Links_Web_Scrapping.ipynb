{
  "nbformat": 4,
  "nbformat_minor": 0,
  "metadata": {
    "colab": {
      "name": "Mulitple_Links_Web_Scrapping.ipynb",
      "provenance": []
    },
    "kernelspec": {
      "name": "python3",
      "display_name": "Python 3"
    }
  },
  "cells": [
    {
      "cell_type": "code",
      "metadata": {
        "id": "aPlueL6IwQJJ"
      },
      "source": [
        "from bs4 import BeautifulSoup # Importing the BeautifulSoup package\n",
        "import requests # Importing requests library\n",
        "import csv\n",
        "import pandas as pd"
      ],
      "execution_count": null,
      "outputs": []
    },
    {
      "cell_type": "code",
      "metadata": {
        "colab": {
          "base_uri": "https://localhost:8080/"
        },
        "id": "C1yzI3lEwtLK",
        "outputId": "95561ae2-ebe5-4964-e766-161547e9f744"
      },
      "source": [
        "datalist=[]\n",
        "temp={'Link':[],'Resolution':[] , 'Bluetooth': [], 'Motion Rate': [], 'HDR':[]}\n",
        "fdataset = pd.DataFrame.from_dict(temp, orient='index')\n",
        "links=['https://www.samsung.com/in/tvs/qled-tv/q900r-98-inch-qled-8k-smart-tv-qa98q900rbkxxv/','https://www.samsung.com/in/tvs/qled-tv/q900r-98-inch-qled-8k-smart-tv-qa98q900rbkxxv/','https://www.samsung.com/in/tvs/qled-tv/q900r-98-inch-qled-8k-smart-tv-qa98q900rbkxxv/','https://www.samsung.com/in/tvs/qled-tv/q900r-98-inch-qled-8k-smart-tv-qa98q900rbkxxv/','https://www.samsung.com/in/tvs/qled-tv/q900r-98-inch-qled-8k-smart-tv-qa98q900rbkxxv/']\n",
        "for link in range(len(links)):\n",
        "  # print(link)\n",
        "  req = requests.get(links[link]) # Requesting the content of the URLcontent = req.content # Getting the cont\n",
        "  content = req.content\n",
        "  soup = BeautifulSoup(content,'html.parser')\n",
        "  #print(soup.prettify())\n",
        "  desc = soup.find_all('li' , class_='spec-highlight__item')\n",
        "  descriptions = []\n",
        "  for i in range(len(desc)):\n",
        "      descriptions.append(desc[i].text)\n",
        "  descriptions\n",
        "  len(descriptions)\n",
        "  d=descriptions\n",
        "  commonclass = soup.find_all('li',class_='spec-highlight__item')\n",
        "  resolution=[]\n",
        "  bluetooth=[]\n",
        "  #series = []\n",
        "  motionrate = []\n",
        "  hdr = []\n",
        "\n",
        "  for i in range(0,len(commonclass)):\n",
        "      p=commonclass[i].text # Extracting the text from the tags\n",
        "      n=\"None\"\n",
        "      if \"Resolu\" in p: \n",
        "        resolution.append(p)\n",
        "      \n",
        "      \n",
        "      if \"Blueto\" in p:\n",
        "        bluetooth.append(p)\n",
        "      \n",
        "  #    if(\"Series\" in p):\n",
        "  #        series.append(p)\n",
        "      if \"Motion R\" in p:\n",
        "        motionrate.append(p)\n",
        "      \n",
        "      if \"HDR\" in p:\n",
        "        hdr.append(p)\n",
        "       \n",
        "  # print(len(series))\n",
        "  # print(resolution)\n",
        "  # print(bluetooth)\n",
        "  \n",
        "  # print(motionrate)\n",
        "  # print(hdr)\n",
        "  import openpyxl\n",
        "  from openpyxl import load_workbook\n",
        "  #print(link)\n",
        "  tabl_link=[]\n",
        "  tabl_link.append(links[link])\n",
        "  d = {'Link':tabl_link,'Resolution':resolution , 'Bluetooth': bluetooth, 'Motion Rate': motionrate, 'HDR':hdr}\n",
        "  dataset = pd.DataFrame.from_dict(d, orient='index')\n",
        "  datalist.append(dataset)\n",
        "  print(dataset)\n",
        "\n",
        "  tabl_link.clear()\n",
        "\n",
        "  # writer = pd.ExcelWriter('/content/new.xlsx', engine='openpyxl')\n",
        "  # # try to open an existing workbook\n",
        "  # writer.book = load_workbook('/content/new.xlsx')\n",
        "  # # copy existing sheets\n",
        "  # writer.sheets = dict((ws.title, ws) for ws in writer.book.worksheets)\n",
        "  # # read existing file\n",
        "  # reader = pd.read_excel(r'/content/new.xlsx')\n",
        "  # # write out the new sheet\n",
        "  # dataset.to_excel(writer,index=False,header=False,startrow=len(reader)+1)\n",
        "\n",
        "  # writer.close()"
      ],
      "execution_count": null,
      "outputs": [
        {
          "output_type": "stream",
          "text": [
            "                                                             0  ...                 2\n",
            "Link         https://www.samsung.com/in/tvs/qled-tv/q900r-9...  ...              None\n",
            "Resolution                   \\n\\nResolution\\n7,680 x 4,320\\n\\n  ...              None\n",
            "Bluetooth                        \\nBluetooth Low Energy\\nYes\\n  ...              None\n",
            "Motion Rate                           \\n\\nMotion Rate\\n200\\n\\n  ...              None\n",
            "HDR                                   \\n\\nQuantum HDR\\nHDR\\n\\n  ...  \\nHDR 10+\\nYes\\n\n",
            "\n",
            "[5 rows x 3 columns]\n",
            "                                                             0  ...                 2\n",
            "Link         https://www.samsung.com/in/tvs/qled-tv/q900r-9...  ...              None\n",
            "Resolution                   \\n\\nResolution\\n7,680 x 4,320\\n\\n  ...              None\n",
            "Bluetooth                        \\nBluetooth Low Energy\\nYes\\n  ...              None\n",
            "Motion Rate                           \\n\\nMotion Rate\\n200\\n\\n  ...              None\n",
            "HDR                                   \\n\\nQuantum HDR\\nHDR\\n\\n  ...  \\nHDR 10+\\nYes\\n\n",
            "\n",
            "[5 rows x 3 columns]\n",
            "                                                             0  ...                 2\n",
            "Link         https://www.samsung.com/in/tvs/qled-tv/q900r-9...  ...              None\n",
            "Resolution                   \\n\\nResolution\\n7,680 x 4,320\\n\\n  ...              None\n",
            "Bluetooth                        \\nBluetooth Low Energy\\nYes\\n  ...              None\n",
            "Motion Rate                           \\n\\nMotion Rate\\n200\\n\\n  ...              None\n",
            "HDR                                   \\n\\nQuantum HDR\\nHDR\\n\\n  ...  \\nHDR 10+\\nYes\\n\n",
            "\n",
            "[5 rows x 3 columns]\n",
            "                                                             0  ...                 2\n",
            "Link         https://www.samsung.com/in/tvs/qled-tv/q900r-9...  ...              None\n",
            "Resolution                   \\n\\nResolution\\n7,680 x 4,320\\n\\n  ...              None\n",
            "Bluetooth                        \\nBluetooth Low Energy\\nYes\\n  ...              None\n",
            "Motion Rate                           \\n\\nMotion Rate\\n200\\n\\n  ...              None\n",
            "HDR                                   \\n\\nQuantum HDR\\nHDR\\n\\n  ...  \\nHDR 10+\\nYes\\n\n",
            "\n",
            "[5 rows x 3 columns]\n",
            "                                                             0  ...                 2\n",
            "Link         https://www.samsung.com/in/tvs/qled-tv/q900r-9...  ...              None\n",
            "Resolution                   \\n\\nResolution\\n7,680 x 4,320\\n\\n  ...              None\n",
            "Bluetooth                        \\nBluetooth Low Energy\\nYes\\n  ...              None\n",
            "Motion Rate                           \\n\\nMotion Rate\\n200\\n\\n  ...              None\n",
            "HDR                                   \\n\\nQuantum HDR\\nHDR\\n\\n  ...  \\nHDR 10+\\nYes\\n\n",
            "\n",
            "[5 rows x 3 columns]\n"
          ],
          "name": "stdout"
        }
      ]
    },
    {
      "cell_type": "code",
      "metadata": {
        "id": "81vKzNkYnG1W",
        "colab": {
          "base_uri": "https://localhost:8080/",
          "height": 358
        },
        "outputId": "a7d1dba6-a1cd-4762-c862-d1b3d9fc8853"
      },
      "source": [
        "datalist = pd.concat(datalist)\n",
        "#print(datalist)"
      ],
      "execution_count": null,
      "outputs": [
        {
          "output_type": "error",
          "ename": "TypeError",
          "evalue": "ignored",
          "traceback": [
            "\u001b[0;31m---------------------------------------------------------------------------\u001b[0m",
            "\u001b[0;31mTypeError\u001b[0m                                 Traceback (most recent call last)",
            "\u001b[0;32m<ipython-input-4-60f3d6d9bec4>\u001b[0m in \u001b[0;36m<module>\u001b[0;34m()\u001b[0m\n\u001b[0;32m----> 1\u001b[0;31m \u001b[0mdatalist\u001b[0m \u001b[0;34m=\u001b[0m \u001b[0mpd\u001b[0m\u001b[0;34m.\u001b[0m\u001b[0mconcat\u001b[0m\u001b[0;34m(\u001b[0m\u001b[0mdatalist\u001b[0m\u001b[0;34m)\u001b[0m\u001b[0;34m\u001b[0m\u001b[0;34m\u001b[0m\u001b[0m\n\u001b[0m\u001b[1;32m      2\u001b[0m \u001b[0;31m#print(datalist)\u001b[0m\u001b[0;34m\u001b[0m\u001b[0;34m\u001b[0m\u001b[0;34m\u001b[0m\u001b[0m\n",
            "\u001b[0;32m/usr/local/lib/python3.7/dist-packages/pandas/core/reshape/concat.py\u001b[0m in \u001b[0;36mconcat\u001b[0;34m(objs, axis, join, ignore_index, keys, levels, names, verify_integrity, sort, copy)\u001b[0m\n\u001b[1;32m    282\u001b[0m         \u001b[0mverify_integrity\u001b[0m\u001b[0;34m=\u001b[0m\u001b[0mverify_integrity\u001b[0m\u001b[0;34m,\u001b[0m\u001b[0;34m\u001b[0m\u001b[0;34m\u001b[0m\u001b[0m\n\u001b[1;32m    283\u001b[0m         \u001b[0mcopy\u001b[0m\u001b[0;34m=\u001b[0m\u001b[0mcopy\u001b[0m\u001b[0;34m,\u001b[0m\u001b[0;34m\u001b[0m\u001b[0;34m\u001b[0m\u001b[0m\n\u001b[0;32m--> 284\u001b[0;31m         \u001b[0msort\u001b[0m\u001b[0;34m=\u001b[0m\u001b[0msort\u001b[0m\u001b[0;34m,\u001b[0m\u001b[0;34m\u001b[0m\u001b[0;34m\u001b[0m\u001b[0m\n\u001b[0m\u001b[1;32m    285\u001b[0m     )\n\u001b[1;32m    286\u001b[0m \u001b[0;34m\u001b[0m\u001b[0m\n",
            "\u001b[0;32m/usr/local/lib/python3.7/dist-packages/pandas/core/reshape/concat.py\u001b[0m in \u001b[0;36m__init__\u001b[0;34m(self, objs, axis, join, keys, levels, names, ignore_index, verify_integrity, copy, sort)\u001b[0m\n\u001b[1;32m    308\u001b[0m         \u001b[0;32mif\u001b[0m \u001b[0misinstance\u001b[0m\u001b[0;34m(\u001b[0m\u001b[0mobjs\u001b[0m\u001b[0;34m,\u001b[0m \u001b[0;34m(\u001b[0m\u001b[0mABCSeries\u001b[0m\u001b[0;34m,\u001b[0m \u001b[0mABCDataFrame\u001b[0m\u001b[0;34m,\u001b[0m \u001b[0mstr\u001b[0m\u001b[0;34m)\u001b[0m\u001b[0;34m)\u001b[0m\u001b[0;34m:\u001b[0m\u001b[0;34m\u001b[0m\u001b[0;34m\u001b[0m\u001b[0m\n\u001b[1;32m    309\u001b[0m             raise TypeError(\n\u001b[0;32m--> 310\u001b[0;31m                 \u001b[0;34m\"first argument must be an iterable of pandas \"\u001b[0m\u001b[0;34m\u001b[0m\u001b[0;34m\u001b[0m\u001b[0m\n\u001b[0m\u001b[1;32m    311\u001b[0m                 \u001b[0;34mf'objects, you passed an object of type \"{type(objs).__name__}\"'\u001b[0m\u001b[0;34m\u001b[0m\u001b[0;34m\u001b[0m\u001b[0m\n\u001b[1;32m    312\u001b[0m             )\n",
            "\u001b[0;31mTypeError\u001b[0m: first argument must be an iterable of pandas objects, you passed an object of type \"DataFrame\""
          ]
        }
      ]
    },
    {
      "cell_type": "code",
      "metadata": {
        "id": "Exf9_3AJIyZU"
      },
      "source": [
        "datalist.to_excel('SamsungDD.xlsx')"
      ],
      "execution_count": null,
      "outputs": []
    }
  ]
}